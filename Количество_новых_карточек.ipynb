{
  "nbformat": 4,
  "nbformat_minor": 0,
  "metadata": {
    "colab": {
      "provenance": [],
      "mount_file_id": "1v_vWWc8EJH7EzgL2pusSnA6pQghSO4qQ",
      "authorship_tag": "ABX9TyMeYPunXYhlfs54++tufSHh"
    },
    "kernelspec": {
      "name": "python3",
      "display_name": "Python 3"
    },
    "language_info": {
      "name": "python"
    }
  },
  "cells": [
    {
      "cell_type": "markdown",
      "source": [
        "#Цель работы: рассчет количества созданных карточек за определенный промежуток времени"
      ],
      "metadata": {
        "id": "fAq0QjW-Jakp"
      }
    },
    {
      "cell_type": "code",
      "execution_count": 1,
      "metadata": {
        "id": "gMIhCR7S_QnP"
      },
      "outputs": [],
      "source": [
        "import pandas as pd\n",
        "import re"
      ]
    },
    {
      "cell_type": "markdown",
      "source": [
        "Подгружаем необходимые данные:\n",
        "- выгрузка всех карточек сотрудников;\n",
        "- данные по региональным лидера и супервайзерам."
      ],
      "metadata": {
        "id": "Jamz0-XDJsmX"
      }
    },
    {
      "cell_type": "code",
      "source": [
        "user_team = pd.read_csv('/content/drive/MyDrive/Work/users-team (12).csv', encoding=\"utf-8\", delimiter=';')\n",
        "RL_and_SV = pd.read_csv('/content/drive/MyDrive/Work/Список СВ и РЛ.csv', encoding=\"utf-8\", delimiter=';')"
      ],
      "metadata": {
        "id": "hzK5ieOU_UrR"
      },
      "execution_count": 3,
      "outputs": []
    },
    {
      "cell_type": "markdown",
      "source": [
        "Переименовываем колонки для удобства использования"
      ],
      "metadata": {
        "id": "PRHK-ofBJ57d"
      }
    },
    {
      "cell_type": "code",
      "source": [
        "user_team.columns = [name.replace(' ','_') for name in user_team.columns]"
      ],
      "metadata": {
        "id": "0UMANFutAlqW"
      },
      "execution_count": 4,
      "outputs": []
    },
    {
      "cell_type": "code",
      "source": [
        "RL_and_SV = RL_and_SV.rename(columns={'СВ':'Руководитель'})"
      ],
      "metadata": {
        "id": "nhqY0VEVRJ3w"
      },
      "execution_count": 5,
      "outputs": []
    },
    {
      "cell_type": "markdown",
      "source": [
        "Удаляем дубликаты карточек сотрудников по столбцу \"СНИЛС\""
      ],
      "metadata": {
        "id": "oDWhzbgTJ-A2"
      }
    },
    {
      "cell_type": "code",
      "source": [
        "user_team = user_team.drop_duplicates('СНИЛС')"
      ],
      "metadata": {
        "id": "ceDAD_-D8tgc"
      },
      "execution_count": 6,
      "outputs": []
    },
    {
      "cell_type": "markdown",
      "source": [
        "Меняем формат столба \"Дата_создания_пользователя\" в дату"
      ],
      "metadata": {
        "id": "vnWXkoOrKC4m"
      }
    },
    {
      "cell_type": "code",
      "source": [
        "user_team.Дата_создания_пользователя = pd.to_datetime(user_team.Дата_создания_пользователя, format='%d-%m-%Y')"
      ],
      "metadata": {
        "id": "1TgqJA1tKKNT"
      },
      "execution_count": 7,
      "outputs": []
    },
    {
      "cell_type": "markdown",
      "source": [
        "Убираем лишние столбы"
      ],
      "metadata": {
        "id": "mE84IHMFKMNI"
      }
    },
    {
      "cell_type": "code",
      "source": [
        "user_team = user_team.drop(['Контрагент', 'Домашний_телефон_исполнителя', 'email', 'Активен', 'ID_руководителя', 'СНИЛС_руководителя', 'Роль_руководителя', 'Дата_последнего_визита'], axis=1)"
      ],
      "metadata": {
        "id": "v6FAVrh9KM0t"
      },
      "execution_count": 8,
      "outputs": []
    },
    {
      "cell_type": "markdown",
      "source": [
        "Проходимся циклом и убираем все карточки, которые имеют подписи Farma и Vacant  \n",
        "Чистим столбы на возможные двойные пробелы"
      ],
      "metadata": {
        "id": "33Lt1nq9KQoE"
      }
    },
    {
      "cell_type": "code",
      "source": [
        "for i in user_team.Пользователь:\n",
        "    if re.search(r'[Farma]|[Vacant]', i):\n",
        "        user_team = user_team[user_team.Пользователь != i ]\n",
        "user_team = user_team.dropna(subset=['Руководитель'])\n",
        "user_team.Руководитель = [i.replace('  ',' ') for i in user_team.Руководитель]"
      ],
      "metadata": {
        "id": "au_eXam5Cody"
      },
      "execution_count": 9,
      "outputs": []
    },
    {
      "cell_type": "markdown",
      "source": [
        "Создаем функцию для рассчета новых карточек сотрудников по необходимым датам"
      ],
      "metadata": {
        "id": "lqGo0o0NKpRo"
      }
    },
    {
      "cell_type": "code",
      "source": [
        "def search_person_for_date(dt1, dt2, name):\n",
        "    df = user_team[(user_team.Дата_создания_пользователя >= dt1) & (user_team.Дата_создания_пользователя <= dt2)]\n",
        "    df = df.merge(RL_and_SV, how='left', on=['Руководитель']).dropna(subset=['РЛ'])\n",
        "    df = df.groupby(['Проект', 'РЛ'], as_index=False).agg({'Пользователь':'count'}).rename(columns={'Пользователь':name})\n",
        "    return df"
      ],
      "metadata": {
        "id": "1jjfO_dlPr_z"
      },
      "execution_count": 10,
      "outputs": []
    },
    {
      "cell_type": "markdown",
      "source": [
        "Создаем переменные - необходимые даты"
      ],
      "metadata": {
        "id": "oV3Z_b6IKv-R"
      }
    },
    {
      "cell_type": "code",
      "source": [
        "febrary = search_person_for_date('02/01/2023', '02/28/2023', 'Февраль')\n",
        "march = search_person_for_date('03/01/2023', '03/31/2023', 'Март')\n",
        "april = search_person_for_date('04/01/2023', '04/30/2023', 'Апрель')\n",
        "april_first = search_person_for_date('04/01/2023', '04/09/2023', '01/04/23 - 09/04/23')\n",
        "april_second = search_person_for_date('04/10/2023', '04/16/2023', '10/04/23 - 16/04/23')\n",
        "april_third = search_person_for_date('04/17/2023', '04/23/2023', '17/04/23 - 23/04/23')\n",
        "april_four = search_person_for_date('04/24/2023', '04/30/2023', '24/04/23 - 30/04/23')"
      ],
      "metadata": {
        "id": "8TvG7SL3QX1m"
      },
      "execution_count": 11,
      "outputs": []
    },
    {
      "cell_type": "markdown",
      "source": [
        "Склеиваем все полученные данные"
      ],
      "metadata": {
        "id": "YBHfnj-tK7c4"
      }
    },
    {
      "cell_type": "code",
      "source": [
        "total = febrary.merge(march, how='outer', on=['Проект', 'РЛ'])\\\n",
        "                       .merge(april, how='outer', on=['Проект', 'РЛ'])\\\n",
        "                       .merge(april_first, how='outer', on=['Проект', 'РЛ'])\\\n",
        "                       .merge(april_second, how='outer', on=['Проект', 'РЛ'])\\\n",
        "                       .merge(april_third, how='outer', on=['Проект', 'РЛ'])\\\n",
        "                       .merge(april_four, how='outer', on=['Проект', 'РЛ']).fillna(0)"
      ],
      "metadata": {
        "id": "AFn0fKWC6iru"
      },
      "execution_count": 19,
      "outputs": []
    },
    {
      "cell_type": "markdown",
      "source": [
        "Результат"
      ],
      "metadata": {
        "id": "f_9P0ZZ0MvrN"
      }
    },
    {
      "cell_type": "code",
      "source": [
        "total"
      ],
      "metadata": {
        "colab": {
          "base_uri": "https://localhost:8080/",
          "height": 614
        },
        "id": "5dRmsHo8MMgH",
        "outputId": "6bfd38c0-603c-42aa-df7c-217ef64c5e6f"
      },
      "execution_count": 20,
      "outputs": [
        {
          "output_type": "execute_result",
          "data": {
            "text/plain": [
              "   Проект                                 РЛ  Февраль  Март  Апрель  \\\n",
              "0    Corp                RL Семенова Татьяна       19    18      26   \n",
              "1    Corp      RL-Булатов Дмитрий Леонтьевич       25    40      35   \n",
              "2    Corp      RL-Бутримов Алексей Борисович       32    26      45   \n",
              "3    Corp  RL-Дрожжа Елизавета Александровна       23    26      22   \n",
              "4    Corp  RL-Казаров Александр Вячеславович       22    32      25   \n",
              "5    Corp       RL-Кашицин Виталий Сергеевич       21    17      37   \n",
              "6    Corp        RL-Логачев Анатолий Юрьевич       25    30      19   \n",
              "7    Corp       RL-Медведева Юлия Викторовна       24    20      40   \n",
              "8    Gill                RL Мартыненко Ирина        7    10      11   \n",
              "9    Gill                RL Сокольских Ольга       14     9      17   \n",
              "10   Gill    RL-Баранова Людмила Геннадьевна        8    22      36   \n",
              "11   Gill  RL-Воробьева Марина Александровна       10    18      19   \n",
              "12   Gill     RL-Зайцева Ольга Александровна        5    10      15   \n",
              "13   Gill   RL-Куракина Оксана Александровна       13    21      18   \n",
              "14   Gill         RL-Куценко Анна Витальевна        2    10      12   \n",
              "15   Gill  RL-Нуралиева Эльмира Эскералиевна        9    15      21   \n",
              "16   Gill        RL-Полякова Диана Борисовна        5     8      14   \n",
              "17   Gill    RL-Физикова Елена Александровна        6     8      16   \n",
              "\n",
              "    01/04/23 - 09/04/23  10/04/23 - 16/04/23  17/04/23 - 23/04/23  \\\n",
              "0                     8                  8.0                    7   \n",
              "1                    12                 10.0                    7   \n",
              "2                    11                  8.0                   13   \n",
              "3                     8                  4.0                    3   \n",
              "4                     6                  5.0                    6   \n",
              "5                    11                 10.0                    8   \n",
              "6                     9                  3.0                    5   \n",
              "7                    13                 10.0                    9   \n",
              "8                     6                  1.0                    1   \n",
              "9                     5                  0.0                    9   \n",
              "10                    8                 12.0                    7   \n",
              "11                    4                  7.0                    5   \n",
              "12                    3                  4.0                    3   \n",
              "13                    2                  3.0                    5   \n",
              "14                    5                  4.0                    1   \n",
              "15                    6                  5.0                    5   \n",
              "16                    2                  2.0                    4   \n",
              "17                    7                  3.0                    3   \n",
              "\n",
              "    24/04/23 - 30/04/23  \n",
              "0                     3  \n",
              "1                     6  \n",
              "2                    13  \n",
              "3                     7  \n",
              "4                     8  \n",
              "5                     8  \n",
              "6                     2  \n",
              "7                     8  \n",
              "8                     3  \n",
              "9                     3  \n",
              "10                    9  \n",
              "11                    3  \n",
              "12                    5  \n",
              "13                    8  \n",
              "14                    2  \n",
              "15                    5  \n",
              "16                    6  \n",
              "17                    3  "
            ],
            "text/html": [
              "\n",
              "  <div id=\"df-1e76aab5-dcb9-48c2-9fc6-19471d603dd2\">\n",
              "    <div class=\"colab-df-container\">\n",
              "      <div>\n",
              "<style scoped>\n",
              "    .dataframe tbody tr th:only-of-type {\n",
              "        vertical-align: middle;\n",
              "    }\n",
              "\n",
              "    .dataframe tbody tr th {\n",
              "        vertical-align: top;\n",
              "    }\n",
              "\n",
              "    .dataframe thead th {\n",
              "        text-align: right;\n",
              "    }\n",
              "</style>\n",
              "<table border=\"1\" class=\"dataframe\">\n",
              "  <thead>\n",
              "    <tr style=\"text-align: right;\">\n",
              "      <th></th>\n",
              "      <th>Проект</th>\n",
              "      <th>РЛ</th>\n",
              "      <th>Февраль</th>\n",
              "      <th>Март</th>\n",
              "      <th>Апрель</th>\n",
              "      <th>01/04/23 - 09/04/23</th>\n",
              "      <th>10/04/23 - 16/04/23</th>\n",
              "      <th>17/04/23 - 23/04/23</th>\n",
              "      <th>24/04/23 - 30/04/23</th>\n",
              "    </tr>\n",
              "  </thead>\n",
              "  <tbody>\n",
              "    <tr>\n",
              "      <th>0</th>\n",
              "      <td>Corp</td>\n",
              "      <td>RL Семенова Татьяна</td>\n",
              "      <td>19</td>\n",
              "      <td>18</td>\n",
              "      <td>26</td>\n",
              "      <td>8</td>\n",
              "      <td>8.0</td>\n",
              "      <td>7</td>\n",
              "      <td>3</td>\n",
              "    </tr>\n",
              "    <tr>\n",
              "      <th>1</th>\n",
              "      <td>Corp</td>\n",
              "      <td>RL-Булатов Дмитрий Леонтьевич</td>\n",
              "      <td>25</td>\n",
              "      <td>40</td>\n",
              "      <td>35</td>\n",
              "      <td>12</td>\n",
              "      <td>10.0</td>\n",
              "      <td>7</td>\n",
              "      <td>6</td>\n",
              "    </tr>\n",
              "    <tr>\n",
              "      <th>2</th>\n",
              "      <td>Corp</td>\n",
              "      <td>RL-Бутримов Алексей Борисович</td>\n",
              "      <td>32</td>\n",
              "      <td>26</td>\n",
              "      <td>45</td>\n",
              "      <td>11</td>\n",
              "      <td>8.0</td>\n",
              "      <td>13</td>\n",
              "      <td>13</td>\n",
              "    </tr>\n",
              "    <tr>\n",
              "      <th>3</th>\n",
              "      <td>Corp</td>\n",
              "      <td>RL-Дрожжа Елизавета Александровна</td>\n",
              "      <td>23</td>\n",
              "      <td>26</td>\n",
              "      <td>22</td>\n",
              "      <td>8</td>\n",
              "      <td>4.0</td>\n",
              "      <td>3</td>\n",
              "      <td>7</td>\n",
              "    </tr>\n",
              "    <tr>\n",
              "      <th>4</th>\n",
              "      <td>Corp</td>\n",
              "      <td>RL-Казаров Александр Вячеславович</td>\n",
              "      <td>22</td>\n",
              "      <td>32</td>\n",
              "      <td>25</td>\n",
              "      <td>6</td>\n",
              "      <td>5.0</td>\n",
              "      <td>6</td>\n",
              "      <td>8</td>\n",
              "    </tr>\n",
              "    <tr>\n",
              "      <th>5</th>\n",
              "      <td>Corp</td>\n",
              "      <td>RL-Кашицин Виталий Сергеевич</td>\n",
              "      <td>21</td>\n",
              "      <td>17</td>\n",
              "      <td>37</td>\n",
              "      <td>11</td>\n",
              "      <td>10.0</td>\n",
              "      <td>8</td>\n",
              "      <td>8</td>\n",
              "    </tr>\n",
              "    <tr>\n",
              "      <th>6</th>\n",
              "      <td>Corp</td>\n",
              "      <td>RL-Логачев Анатолий Юрьевич</td>\n",
              "      <td>25</td>\n",
              "      <td>30</td>\n",
              "      <td>19</td>\n",
              "      <td>9</td>\n",
              "      <td>3.0</td>\n",
              "      <td>5</td>\n",
              "      <td>2</td>\n",
              "    </tr>\n",
              "    <tr>\n",
              "      <th>7</th>\n",
              "      <td>Corp</td>\n",
              "      <td>RL-Медведева Юлия Викторовна</td>\n",
              "      <td>24</td>\n",
              "      <td>20</td>\n",
              "      <td>40</td>\n",
              "      <td>13</td>\n",
              "      <td>10.0</td>\n",
              "      <td>9</td>\n",
              "      <td>8</td>\n",
              "    </tr>\n",
              "    <tr>\n",
              "      <th>8</th>\n",
              "      <td>Gill</td>\n",
              "      <td>RL Мартыненко Ирина</td>\n",
              "      <td>7</td>\n",
              "      <td>10</td>\n",
              "      <td>11</td>\n",
              "      <td>6</td>\n",
              "      <td>1.0</td>\n",
              "      <td>1</td>\n",
              "      <td>3</td>\n",
              "    </tr>\n",
              "    <tr>\n",
              "      <th>9</th>\n",
              "      <td>Gill</td>\n",
              "      <td>RL Сокольских Ольга</td>\n",
              "      <td>14</td>\n",
              "      <td>9</td>\n",
              "      <td>17</td>\n",
              "      <td>5</td>\n",
              "      <td>0.0</td>\n",
              "      <td>9</td>\n",
              "      <td>3</td>\n",
              "    </tr>\n",
              "    <tr>\n",
              "      <th>10</th>\n",
              "      <td>Gill</td>\n",
              "      <td>RL-Баранова Людмила Геннадьевна</td>\n",
              "      <td>8</td>\n",
              "      <td>22</td>\n",
              "      <td>36</td>\n",
              "      <td>8</td>\n",
              "      <td>12.0</td>\n",
              "      <td>7</td>\n",
              "      <td>9</td>\n",
              "    </tr>\n",
              "    <tr>\n",
              "      <th>11</th>\n",
              "      <td>Gill</td>\n",
              "      <td>RL-Воробьева Марина Александровна</td>\n",
              "      <td>10</td>\n",
              "      <td>18</td>\n",
              "      <td>19</td>\n",
              "      <td>4</td>\n",
              "      <td>7.0</td>\n",
              "      <td>5</td>\n",
              "      <td>3</td>\n",
              "    </tr>\n",
              "    <tr>\n",
              "      <th>12</th>\n",
              "      <td>Gill</td>\n",
              "      <td>RL-Зайцева Ольга Александровна</td>\n",
              "      <td>5</td>\n",
              "      <td>10</td>\n",
              "      <td>15</td>\n",
              "      <td>3</td>\n",
              "      <td>4.0</td>\n",
              "      <td>3</td>\n",
              "      <td>5</td>\n",
              "    </tr>\n",
              "    <tr>\n",
              "      <th>13</th>\n",
              "      <td>Gill</td>\n",
              "      <td>RL-Куракина Оксана Александровна</td>\n",
              "      <td>13</td>\n",
              "      <td>21</td>\n",
              "      <td>18</td>\n",
              "      <td>2</td>\n",
              "      <td>3.0</td>\n",
              "      <td>5</td>\n",
              "      <td>8</td>\n",
              "    </tr>\n",
              "    <tr>\n",
              "      <th>14</th>\n",
              "      <td>Gill</td>\n",
              "      <td>RL-Куценко Анна Витальевна</td>\n",
              "      <td>2</td>\n",
              "      <td>10</td>\n",
              "      <td>12</td>\n",
              "      <td>5</td>\n",
              "      <td>4.0</td>\n",
              "      <td>1</td>\n",
              "      <td>2</td>\n",
              "    </tr>\n",
              "    <tr>\n",
              "      <th>15</th>\n",
              "      <td>Gill</td>\n",
              "      <td>RL-Нуралиева Эльмира Эскералиевна</td>\n",
              "      <td>9</td>\n",
              "      <td>15</td>\n",
              "      <td>21</td>\n",
              "      <td>6</td>\n",
              "      <td>5.0</td>\n",
              "      <td>5</td>\n",
              "      <td>5</td>\n",
              "    </tr>\n",
              "    <tr>\n",
              "      <th>16</th>\n",
              "      <td>Gill</td>\n",
              "      <td>RL-Полякова Диана Борисовна</td>\n",
              "      <td>5</td>\n",
              "      <td>8</td>\n",
              "      <td>14</td>\n",
              "      <td>2</td>\n",
              "      <td>2.0</td>\n",
              "      <td>4</td>\n",
              "      <td>6</td>\n",
              "    </tr>\n",
              "    <tr>\n",
              "      <th>17</th>\n",
              "      <td>Gill</td>\n",
              "      <td>RL-Физикова Елена Александровна</td>\n",
              "      <td>6</td>\n",
              "      <td>8</td>\n",
              "      <td>16</td>\n",
              "      <td>7</td>\n",
              "      <td>3.0</td>\n",
              "      <td>3</td>\n",
              "      <td>3</td>\n",
              "    </tr>\n",
              "  </tbody>\n",
              "</table>\n",
              "</div>\n",
              "      <button class=\"colab-df-convert\" onclick=\"convertToInteractive('df-1e76aab5-dcb9-48c2-9fc6-19471d603dd2')\"\n",
              "              title=\"Convert this dataframe to an interactive table.\"\n",
              "              style=\"display:none;\">\n",
              "        \n",
              "  <svg xmlns=\"http://www.w3.org/2000/svg\" height=\"24px\"viewBox=\"0 0 24 24\"\n",
              "       width=\"24px\">\n",
              "    <path d=\"M0 0h24v24H0V0z\" fill=\"none\"/>\n",
              "    <path d=\"M18.56 5.44l.94 2.06.94-2.06 2.06-.94-2.06-.94-.94-2.06-.94 2.06-2.06.94zm-11 1L8.5 8.5l.94-2.06 2.06-.94-2.06-.94L8.5 2.5l-.94 2.06-2.06.94zm10 10l.94 2.06.94-2.06 2.06-.94-2.06-.94-.94-2.06-.94 2.06-2.06.94z\"/><path d=\"M17.41 7.96l-1.37-1.37c-.4-.4-.92-.59-1.43-.59-.52 0-1.04.2-1.43.59L10.3 9.45l-7.72 7.72c-.78.78-.78 2.05 0 2.83L4 21.41c.39.39.9.59 1.41.59.51 0 1.02-.2 1.41-.59l7.78-7.78 2.81-2.81c.8-.78.8-2.07 0-2.86zM5.41 20L4 18.59l7.72-7.72 1.47 1.35L5.41 20z\"/>\n",
              "  </svg>\n",
              "      </button>\n",
              "      \n",
              "  <style>\n",
              "    .colab-df-container {\n",
              "      display:flex;\n",
              "      flex-wrap:wrap;\n",
              "      gap: 12px;\n",
              "    }\n",
              "\n",
              "    .colab-df-convert {\n",
              "      background-color: #E8F0FE;\n",
              "      border: none;\n",
              "      border-radius: 50%;\n",
              "      cursor: pointer;\n",
              "      display: none;\n",
              "      fill: #1967D2;\n",
              "      height: 32px;\n",
              "      padding: 0 0 0 0;\n",
              "      width: 32px;\n",
              "    }\n",
              "\n",
              "    .colab-df-convert:hover {\n",
              "      background-color: #E2EBFA;\n",
              "      box-shadow: 0px 1px 2px rgba(60, 64, 67, 0.3), 0px 1px 3px 1px rgba(60, 64, 67, 0.15);\n",
              "      fill: #174EA6;\n",
              "    }\n",
              "\n",
              "    [theme=dark] .colab-df-convert {\n",
              "      background-color: #3B4455;\n",
              "      fill: #D2E3FC;\n",
              "    }\n",
              "\n",
              "    [theme=dark] .colab-df-convert:hover {\n",
              "      background-color: #434B5C;\n",
              "      box-shadow: 0px 1px 3px 1px rgba(0, 0, 0, 0.15);\n",
              "      filter: drop-shadow(0px 1px 2px rgba(0, 0, 0, 0.3));\n",
              "      fill: #FFFFFF;\n",
              "    }\n",
              "  </style>\n",
              "\n",
              "      <script>\n",
              "        const buttonEl =\n",
              "          document.querySelector('#df-1e76aab5-dcb9-48c2-9fc6-19471d603dd2 button.colab-df-convert');\n",
              "        buttonEl.style.display =\n",
              "          google.colab.kernel.accessAllowed ? 'block' : 'none';\n",
              "\n",
              "        async function convertToInteractive(key) {\n",
              "          const element = document.querySelector('#df-1e76aab5-dcb9-48c2-9fc6-19471d603dd2');\n",
              "          const dataTable =\n",
              "            await google.colab.kernel.invokeFunction('convertToInteractive',\n",
              "                                                     [key], {});\n",
              "          if (!dataTable) return;\n",
              "\n",
              "          const docLinkHtml = 'Like what you see? Visit the ' +\n",
              "            '<a target=\"_blank\" href=https://colab.research.google.com/notebooks/data_table.ipynb>data table notebook</a>'\n",
              "            + ' to learn more about interactive tables.';\n",
              "          element.innerHTML = '';\n",
              "          dataTable['output_type'] = 'display_data';\n",
              "          await google.colab.output.renderOutput(dataTable, element);\n",
              "          const docLink = document.createElement('div');\n",
              "          docLink.innerHTML = docLinkHtml;\n",
              "          element.appendChild(docLink);\n",
              "        }\n",
              "      </script>\n",
              "    </div>\n",
              "  </div>\n",
              "  "
            ]
          },
          "metadata": {},
          "execution_count": 20
        }
      ]
    },
    {
      "cell_type": "markdown",
      "source": [
        "Рассчитываем итоги по каждому проекту для отправления в тексте письма"
      ],
      "metadata": {
        "id": "AJQIaTEkM3eU"
      }
    },
    {
      "cell_type": "code",
      "source": [
        "itog = total.groupby('Проект', as_index=False).agg({'Март':'sum',\t'Апрель':'sum',\t'01/04/23 - 09/04/23':'sum',\t'10/04/23 - 16/04/23':'sum', '17/04/23 - 23/04/23':'sum', '24/04/23 - 30/04/23':'sum'})"
      ],
      "metadata": {
        "id": "bW0OBzo_DHhW"
      },
      "execution_count": null,
      "outputs": []
    },
    {
      "cell_type": "code",
      "source": [
        "itog"
      ],
      "metadata": {
        "colab": {
          "base_uri": "https://localhost:8080/",
          "height": 112
        },
        "id": "-IqsXy22PKQf",
        "outputId": "203429c8-dad0-4186-f19f-93ae27d960a8"
      },
      "execution_count": null,
      "outputs": [
        {
          "output_type": "execute_result",
          "data": {
            "text/plain": [
              "  Проект  Март  Апрель  01/04/23 - 09/04/23  10/04/23 - 16/04/23  \\\n",
              "0   Corp   209     249                   78                 58.0   \n",
              "1   Gill   131     179                   48                 41.0   \n",
              "\n",
              "   17/04/23 - 23/04/23  24/04/23 - 30/04/23  \n",
              "0                   58                   55  \n",
              "1                   43                   47  "
            ],
            "text/html": [
              "\n",
              "  <div id=\"df-d01fa2c7-a6dc-4ba9-9b71-f41933fe94f0\">\n",
              "    <div class=\"colab-df-container\">\n",
              "      <div>\n",
              "<style scoped>\n",
              "    .dataframe tbody tr th:only-of-type {\n",
              "        vertical-align: middle;\n",
              "    }\n",
              "\n",
              "    .dataframe tbody tr th {\n",
              "        vertical-align: top;\n",
              "    }\n",
              "\n",
              "    .dataframe thead th {\n",
              "        text-align: right;\n",
              "    }\n",
              "</style>\n",
              "<table border=\"1\" class=\"dataframe\">\n",
              "  <thead>\n",
              "    <tr style=\"text-align: right;\">\n",
              "      <th></th>\n",
              "      <th>Проект</th>\n",
              "      <th>Март</th>\n",
              "      <th>Апрель</th>\n",
              "      <th>01/04/23 - 09/04/23</th>\n",
              "      <th>10/04/23 - 16/04/23</th>\n",
              "      <th>17/04/23 - 23/04/23</th>\n",
              "      <th>24/04/23 - 30/04/23</th>\n",
              "    </tr>\n",
              "  </thead>\n",
              "  <tbody>\n",
              "    <tr>\n",
              "      <th>0</th>\n",
              "      <td>Corp</td>\n",
              "      <td>209</td>\n",
              "      <td>249</td>\n",
              "      <td>78</td>\n",
              "      <td>58.0</td>\n",
              "      <td>58</td>\n",
              "      <td>55</td>\n",
              "    </tr>\n",
              "    <tr>\n",
              "      <th>1</th>\n",
              "      <td>Gill</td>\n",
              "      <td>131</td>\n",
              "      <td>179</td>\n",
              "      <td>48</td>\n",
              "      <td>41.0</td>\n",
              "      <td>43</td>\n",
              "      <td>47</td>\n",
              "    </tr>\n",
              "  </tbody>\n",
              "</table>\n",
              "</div>\n",
              "      <button class=\"colab-df-convert\" onclick=\"convertToInteractive('df-d01fa2c7-a6dc-4ba9-9b71-f41933fe94f0')\"\n",
              "              title=\"Convert this dataframe to an interactive table.\"\n",
              "              style=\"display:none;\">\n",
              "        \n",
              "  <svg xmlns=\"http://www.w3.org/2000/svg\" height=\"24px\"viewBox=\"0 0 24 24\"\n",
              "       width=\"24px\">\n",
              "    <path d=\"M0 0h24v24H0V0z\" fill=\"none\"/>\n",
              "    <path d=\"M18.56 5.44l.94 2.06.94-2.06 2.06-.94-2.06-.94-.94-2.06-.94 2.06-2.06.94zm-11 1L8.5 8.5l.94-2.06 2.06-.94-2.06-.94L8.5 2.5l-.94 2.06-2.06.94zm10 10l.94 2.06.94-2.06 2.06-.94-2.06-.94-.94-2.06-.94 2.06-2.06.94z\"/><path d=\"M17.41 7.96l-1.37-1.37c-.4-.4-.92-.59-1.43-.59-.52 0-1.04.2-1.43.59L10.3 9.45l-7.72 7.72c-.78.78-.78 2.05 0 2.83L4 21.41c.39.39.9.59 1.41.59.51 0 1.02-.2 1.41-.59l7.78-7.78 2.81-2.81c.8-.78.8-2.07 0-2.86zM5.41 20L4 18.59l7.72-7.72 1.47 1.35L5.41 20z\"/>\n",
              "  </svg>\n",
              "      </button>\n",
              "      \n",
              "  <style>\n",
              "    .colab-df-container {\n",
              "      display:flex;\n",
              "      flex-wrap:wrap;\n",
              "      gap: 12px;\n",
              "    }\n",
              "\n",
              "    .colab-df-convert {\n",
              "      background-color: #E8F0FE;\n",
              "      border: none;\n",
              "      border-radius: 50%;\n",
              "      cursor: pointer;\n",
              "      display: none;\n",
              "      fill: #1967D2;\n",
              "      height: 32px;\n",
              "      padding: 0 0 0 0;\n",
              "      width: 32px;\n",
              "    }\n",
              "\n",
              "    .colab-df-convert:hover {\n",
              "      background-color: #E2EBFA;\n",
              "      box-shadow: 0px 1px 2px rgba(60, 64, 67, 0.3), 0px 1px 3px 1px rgba(60, 64, 67, 0.15);\n",
              "      fill: #174EA6;\n",
              "    }\n",
              "\n",
              "    [theme=dark] .colab-df-convert {\n",
              "      background-color: #3B4455;\n",
              "      fill: #D2E3FC;\n",
              "    }\n",
              "\n",
              "    [theme=dark] .colab-df-convert:hover {\n",
              "      background-color: #434B5C;\n",
              "      box-shadow: 0px 1px 3px 1px rgba(0, 0, 0, 0.15);\n",
              "      filter: drop-shadow(0px 1px 2px rgba(0, 0, 0, 0.3));\n",
              "      fill: #FFFFFF;\n",
              "    }\n",
              "  </style>\n",
              "\n",
              "      <script>\n",
              "        const buttonEl =\n",
              "          document.querySelector('#df-d01fa2c7-a6dc-4ba9-9b71-f41933fe94f0 button.colab-df-convert');\n",
              "        buttonEl.style.display =\n",
              "          google.colab.kernel.accessAllowed ? 'block' : 'none';\n",
              "\n",
              "        async function convertToInteractive(key) {\n",
              "          const element = document.querySelector('#df-d01fa2c7-a6dc-4ba9-9b71-f41933fe94f0');\n",
              "          const dataTable =\n",
              "            await google.colab.kernel.invokeFunction('convertToInteractive',\n",
              "                                                     [key], {});\n",
              "          if (!dataTable) return;\n",
              "\n",
              "          const docLinkHtml = 'Like what you see? Visit the ' +\n",
              "            '<a target=\"_blank\" href=https://colab.research.google.com/notebooks/data_table.ipynb>data table notebook</a>'\n",
              "            + ' to learn more about interactive tables.';\n",
              "          element.innerHTML = '';\n",
              "          dataTable['output_type'] = 'display_data';\n",
              "          await google.colab.output.renderOutput(dataTable, element);\n",
              "          const docLink = document.createElement('div');\n",
              "          docLink.innerHTML = docLinkHtml;\n",
              "          element.appendChild(docLink);\n",
              "        }\n",
              "      </script>\n",
              "    </div>\n",
              "  </div>\n",
              "  "
            ]
          },
          "metadata": {},
          "execution_count": 41
        }
      ]
    },
    {
      "cell_type": "markdown",
      "source": [
        "Записываем данные в Excel"
      ],
      "metadata": {
        "id": "m6qLDjm6M_nc"
      }
    },
    {
      "cell_type": "code",
      "source": [
        "with pd.ExcelWriter('/content/drive/MyDrive/Work/Users_for_RL.xlsx', engine = 'openpyxl') as writer:  \n",
        "    total.to_excel(writer, sheet_name = 'Count', index = False)\n",
        "    itog.to_excel(writer, sheet_name = 'itog', index = False)"
      ],
      "metadata": {
        "id": "659fRCjLDaa9"
      },
      "execution_count": null,
      "outputs": []
    }
  ]
}